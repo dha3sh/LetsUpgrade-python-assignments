{
  "nbformat": 4,
  "nbformat_minor": 0,
  "metadata": {
    "colab": {
      "provenance": [],
      "authorship_tag": "ABX9TyM/Vf/66nafjEgSdk6XTH+z",
      "include_colab_link": true
    },
    "kernelspec": {
      "name": "python3",
      "display_name": "Python 3"
    },
    "language_info": {
      "name": "python"
    }
  },
  "cells": [
    {
      "cell_type": "markdown",
      "metadata": {
        "id": "view-in-github",
        "colab_type": "text"
      },
      "source": [
        "<a href=\"https://colab.research.google.com/github/dha3sh/LetsUpgrade-python-assignments/blob/main/Program_which_has_function_to_find_out_a_number_is_prime_or_not.ipynb\" target=\"_parent\"><img src=\"https://colab.research.google.com/assets/colab-badge.svg\" alt=\"Open In Colab\"/></a>"
      ]
    },
    {
      "cell_type": "code",
      "execution_count": 11,
      "metadata": {
        "colab": {
          "base_uri": "https://localhost:8080/"
        },
        "id": "tC4cf_WtwQdH",
        "outputId": "da5459e9-b150-48b0-cbcb-463962002db0"
      },
      "outputs": [
        {
          "output_type": "stream",
          "name": "stdout",
          "text": [
            "Enter a Number: 5\n",
            "\n",
            "5 is a Prime Number\n"
          ]
        }
      ],
      "source": [
        "def checkPrime(x):\n",
        "    for i in range(2, x):\n",
        "        if n%i==0:\n",
        "            return 1\n",
        "\n",
        "print(\"Enter a Number: \", end=\"\")\n",
        "n = int(input())\n",
        "\n",
        "p = checkPrime(n)\n",
        "if p==1:\n",
        "    print(\"\\n\" +str(n)+ \" is not a Prime Number\")\n",
        "else:\n",
        "    print(\"\\n\" +str(n)+ \" is a Prime Number\")"
      ]
    }
  ]
}