{
  "nbformat": 4,
  "nbformat_minor": 0,
  "metadata": {
    "colab": {
      "provenance": [],
      "authorship_tag": "ABX9TyOnGfz6T689eZum0dgaCUwG",
      "include_colab_link": true
    },
    "kernelspec": {
      "name": "python3",
      "display_name": "Python 3"
    },
    "language_info": {
      "name": "python"
    }
  },
  "cells": [
    {
      "cell_type": "markdown",
      "metadata": {
        "id": "view-in-github",
        "colab_type": "text"
      },
      "source": [
        "<a href=\"https://colab.research.google.com/github/dha3sh/LetsUpgrade-python-assignments/blob/main/even_or_odd.ipynb\" target=\"_parent\"><img src=\"https://colab.research.google.com/assets/colab-badge.svg\" alt=\"Open In Colab\"/></a>"
      ]
    },
    {
      "cell_type": "code",
      "execution_count": 3,
      "metadata": {
        "colab": {
          "base_uri": "https://localhost:8080/"
        },
        "id": "ZHuLsk841xjx",
        "outputId": "8510c0e7-0c74-4fda-eaf2-880610a9bc8d"
      },
      "outputs": [
        {
          "output_type": "stream",
          "name": "stdout",
          "text": [
            "3\n",
            "Odd!\n"
          ]
        }
      ],
      "source": [
        "def evenodd(x):\n",
        "    if(x%2==0):\n",
        "        print('Even!')\n",
        "    else:\n",
        "        print('Odd!')\n",
        "x=int(input())\n",
        "evenodd(x)"
      ]
    }
  ]
}